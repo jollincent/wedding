{
 "cells": [
  {
   "cell_type": "markdown",
   "metadata": {},
   "source": [
    "# Reception"
   ]
  },
  {
   "cell_type": "markdown",
   "metadata": {},
   "source": [
    "## Venue\n",
    "\n",
    "We only know the following requirements:\n",
    "- At least 30 tables (assuming 10 people each), up to 50 tables (30-40 for Vincent's side)\n",
    "- Accessible location (not too far)\n",
    "- Good parking\n",
    "- Food is not a requirement (catering is an option)\n",
    "\n",
    "And the following preferences:\n",
    "- Rustic look\n",
    "- Tall / good ceiling height"
   ]
  },
  {
   "cell_type": "markdown",
   "metadata": {},
   "source": [
    "## Reception Events & Things\n",
    "\n",
    "The tentative reception plan:\n",
    "\n",
    "[**TODO**] Insert things for reception plan"
   ]
  },
  {
   "cell_type": "markdown",
   "metadata": {},
   "source": [
    "## Decorations"
   ]
  },
  {
   "cell_type": "markdown",
   "metadata": {},
   "source": [
    "### Live Band or Karoake Machine\n",
    "\n",
    "We definitely wanted some music from a live band but if not, a karoake machine sounds good.\n",
    "\n",
    "> We plan to have friends and family sign up to sing first, then open up the floor to guests. Jollin wants the bride and groom to sing a song together."
   ]
  },
  {
   "cell_type": "markdown",
   "metadata": {},
   "source": [
    "### Photo Booth\n",
    "Photo booth with on-site printing or on-site tags for online distribution would be cool. Consider something [like this](https://shutterbooth.com/atlanta/), which is a kiosk or photo booth with different cool gif, boomerang, etc.\n",
    "\n",
    "It would be cool to make it ourselves so we can save money and reuse it, but if it fits in our budget, we can rent one."
   ]
  },
  {
   "cell_type": "markdown",
   "metadata": {},
   "source": [
    "## Invitations / Envelopes\n",
    "Vincent's dad mentioned going to Vietnam to print envelopes; however, if a trip to Vietnam is not available, we may need to order them online.\n",
    "\n",
    "[**TODO**] Look up different prices for invitation printing."
   ]
  }
 ],
 "metadata": {
  "language_info": {
   "name": "python"
  },
  "orig_nbformat": 4
 },
 "nbformat": 4,
 "nbformat_minor": 2
}
